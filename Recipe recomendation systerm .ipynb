{
 "cells": [
  {
   "cell_type": "markdown",
   "metadata": {},
   "source": [
    "# **DATA SIENCE PROJECT**\n",
    "\n",
    "*Food.com Review Data*"
   ]
  },
  {
   "cell_type": "markdown",
   "metadata": {},
   "source": [
    "### **Recommendation system**\n"
   ]
  },
  {
   "cell_type": "markdown",
   "metadata": {},
   "source": [
    " ***What is recommendation system ?***\n",
    "    \n",
    "- Recommender systems are the systems that are designed to recommend things to the user based on many different factors. These systems predict the most likely product that the users are most likely to purchase and are of interest to. Companies like Netflix, Amazon, etc. use recommender systems to help their users to identify the correct product or movies for them.\n",
    "\n",
    "\n",
    "- The recommender system deals with a large volume of information present by filtering the most important information based on the data provided by a user and other factors that take care of the user’s preference and interest. It finds out the match between user and item and imputes the similarities between users and items for recommendation. \n",
    "\n",
    "\n",
    "- Both the users and the services provided have benefited from these kinds of systems. The quality and decision-making process has also improved through these kinds of systems."
   ]
  },
  {
   "cell_type": "markdown",
   "metadata": {},
   "source": [
    "***Types of recommendation system***\n",
    "\n",
    "There are mainly 6 types of the recommendations systems:\n",
    "\n",
    "1.\tPopularity based systems : It works by recommeding items viewed and purchased by most people and are rated high.It is not a personalized recommendation.\n",
    "\n",
    "\n",
    "2.\tClassification model based: It works by understanding the features of the user and applying the classification algorithm to decide whether the user is interested or not in the prodcut.\n",
    "\n",
    "\n",
    "3.\tContent based recommedations: It is based on the information on the contents of the item rather than on the user opinions.The main idea is if the user likes an item then he or she will like the \"other\" similar item.\n",
    "\n",
    "\n",
    "4.\tCollaberative Filtering: It is based on assumption that people like things similar to other things they like, and things that are liked by other people with similar taste. it is mainly of two types: a) User-User b) Item -Item.\n",
    "\n",
    "\n",
    "5.\tHybrid Approaches: This system approach is to combine collaborative filtering, content-based filtering, and other approaches.\n",
    "\n",
    "\n",
    "6.\tAssociation rule mining : Association rules capture the relationships between items based on their patterns of co-occurrence across transactions.\n"
   ]
  },
  {
   "cell_type": "markdown",
   "metadata": {},
   "source": [
    "## **Dataset**"
   ]
  },
  {
   "cell_type": "markdown",
   "metadata": {},
   "source": [
    "***Description***\n",
    "\n",
    "- These datasets contain reviews from Food.com (formerly GeniusKitchen). Data includes cooking review texts."
   ]
  },
  {
   "cell_type": "markdown",
   "metadata": {},
   "source": [
    "***Atribute Information***\n",
    "- user_id: Every user identified with a unique id\n",
    "- recipe_id: Every recipe identified with a unique id\n",
    "- rating: Rating of the corresponding recipe by the corresponding user\n",
    "- date: Time of the rating (ignore this column for this project)\n"
   ]
  },
  {
   "cell_type": "markdown",
   "metadata": {},
   "source": [
    "## **Building model**"
   ]
  },
  {
   "cell_type": "code",
   "execution_count": 1,
   "metadata": {
    "execution": {
     "iopub.execute_input": "2020-12-09T09:04:53.337832Z",
     "iopub.status.busy": "2020-12-09T09:04:53.337154Z",
     "iopub.status.idle": "2020-12-09T09:04:54.367850Z",
     "shell.execute_reply": "2020-12-09T09:04:54.367066Z"
    },
    "papermill": {
     "duration": 1.076245,
     "end_time": "2020-12-09T09:04:54.367971",
     "exception": false,
     "start_time": "2020-12-09T09:04:53.291726",
     "status": "completed"
    },
    "tags": []
   },
   "outputs": [],
   "source": [
    "#Import libraries\n",
    "\n",
    "import numpy as np #linear algebra\n",
    "import pandas as pd #data processing\n",
    "import matplotlib.pyplot as plt #visualization\n",
    "import seaborn as sns\n",
    "%matplotlib inline\n",
    "from surprise import SVD, Reader, Dataset \n",
    "from surprise.model_selection import cross_validate"
   ]
  },
  {
   "cell_type": "markdown",
   "metadata": {},
   "source": [
    "Let have some explanation about what libraries I going to use in this project:\n",
    "\n",
    "- Numpy is a Python library used for working with arrays. It also has functions for working in domain of linear algebra, Fourier transform, and matrices.\n",
    "\n",
    "\n",
    "- Pandas is a Python library used for working with data sets. It has functions for analyzing, cleaning, exploring, and manipulating data.\n",
    "- Matplotlib is a low-level graph plotting library in python that serves as a visualization utility. Most of the Matplotlib utilities lies under the pyplot submodule\n",
    "\n",
    "\n",
    "- Seaborn is a library that uses Matplotlib underneath to plot graphs. It will be used to visualize random distributions.\n",
    "\n",
    "\n",
    "- %Matplotlib inline allow Jupyter Notebook to display the output of plotting commands directly below the code cell.\n",
    "\n",
    "\n",
    "- The last two libraries will be discussed latter.\n"
   ]
  },
  {
   "cell_type": "markdown",
   "metadata": {},
   "source": [
    "***Data preparation***"
   ]
  },
  {
   "cell_type": "code",
   "execution_count": 2,
   "metadata": {
    "execution": {
     "iopub.execute_input": "2020-12-09T09:04:54.550428Z",
     "iopub.status.busy": "2020-12-09T09:04:54.549760Z",
     "iopub.status.idle": "2020-12-09T09:05:06.528616Z",
     "shell.execute_reply": "2020-12-09T09:05:06.528024Z"
    },
    "papermill": {
     "duration": 12.031652,
     "end_time": "2020-12-09T09:05:06.528812",
     "exception": false,
     "start_time": "2020-12-09T09:04:54.497160",
     "status": "completed"
    },
    "tags": []
   },
   "outputs": [
    {
     "data": {
      "text/html": [
       "<div>\n",
       "<style scoped>\n",
       "    .dataframe tbody tr th:only-of-type {\n",
       "        vertical-align: middle;\n",
       "    }\n",
       "\n",
       "    .dataframe tbody tr th {\n",
       "        vertical-align: top;\n",
       "    }\n",
       "\n",
       "    .dataframe thead th {\n",
       "        text-align: right;\n",
       "    }\n",
       "</style>\n",
       "<table border=\"1\" class=\"dataframe\">\n",
       "  <thead>\n",
       "    <tr style=\"text-align: right;\">\n",
       "      <th></th>\n",
       "      <th>user_id</th>\n",
       "      <th>recipe_id</th>\n",
       "      <th>date</th>\n",
       "      <th>rating</th>\n",
       "      <th>u</th>\n",
       "      <th>i</th>\n",
       "    </tr>\n",
       "  </thead>\n",
       "  <tbody>\n",
       "    <tr>\n",
       "      <th>0</th>\n",
       "      <td>2046</td>\n",
       "      <td>4684</td>\n",
       "      <td>2000-02-25</td>\n",
       "      <td>5.0</td>\n",
       "      <td>22095</td>\n",
       "      <td>44367</td>\n",
       "    </tr>\n",
       "    <tr>\n",
       "      <th>1</th>\n",
       "      <td>2046</td>\n",
       "      <td>517</td>\n",
       "      <td>2000-02-25</td>\n",
       "      <td>5.0</td>\n",
       "      <td>22095</td>\n",
       "      <td>87844</td>\n",
       "    </tr>\n",
       "    <tr>\n",
       "      <th>2</th>\n",
       "      <td>1773</td>\n",
       "      <td>7435</td>\n",
       "      <td>2000-03-13</td>\n",
       "      <td>5.0</td>\n",
       "      <td>24732</td>\n",
       "      <td>138181</td>\n",
       "    </tr>\n",
       "    <tr>\n",
       "      <th>3</th>\n",
       "      <td>1773</td>\n",
       "      <td>278</td>\n",
       "      <td>2000-03-13</td>\n",
       "      <td>4.0</td>\n",
       "      <td>24732</td>\n",
       "      <td>93054</td>\n",
       "    </tr>\n",
       "    <tr>\n",
       "      <th>4</th>\n",
       "      <td>2046</td>\n",
       "      <td>3431</td>\n",
       "      <td>2000-04-07</td>\n",
       "      <td>5.0</td>\n",
       "      <td>22095</td>\n",
       "      <td>101723</td>\n",
       "    </tr>\n",
       "  </tbody>\n",
       "</table>\n",
       "</div>"
      ],
      "text/plain": [
       "   user_id  recipe_id        date  rating      u       i\n",
       "0     2046       4684  2000-02-25     5.0  22095   44367\n",
       "1     2046        517  2000-02-25     5.0  22095   87844\n",
       "2     1773       7435  2000-03-13     5.0  24732  138181\n",
       "3     1773        278  2000-03-13     4.0  24732   93054\n",
       "4     2046       3431  2000-04-07     5.0  22095  101723"
      ]
     },
     "execution_count": 2,
     "metadata": {},
     "output_type": "execute_result"
    }
   ],
   "source": [
    "df=pd.read_csv('interactions_train.csv')\n",
    "df.head()"
   ]
  },
  {
   "cell_type": "markdown",
   "metadata": {},
   "source": [
    "Firstly, I read the Dataset and assign it as df and display the first 5 row of the Dataset. This Dataset contain 6 attributes."
   ]
  },
  {
   "cell_type": "code",
   "execution_count": 3,
   "metadata": {
    "execution": {
     "iopub.execute_input": "2020-12-09T09:05:06.631481Z",
     "iopub.status.busy": "2020-12-09T09:05:06.630814Z",
     "iopub.status.idle": "2020-12-09T09:05:06.640667Z",
     "shell.execute_reply": "2020-12-09T09:05:06.640020Z"
    },
    "papermill": {
     "duration": 0.068345,
     "end_time": "2020-12-09T09:05:06.640783",
     "exception": false,
     "start_time": "2020-12-09T09:05:06.572438",
     "status": "completed"
    },
    "tags": []
   },
   "outputs": [
    {
     "data": {
      "text/html": [
       "<div>\n",
       "<style scoped>\n",
       "    .dataframe tbody tr th:only-of-type {\n",
       "        vertical-align: middle;\n",
       "    }\n",
       "\n",
       "    .dataframe tbody tr th {\n",
       "        vertical-align: top;\n",
       "    }\n",
       "\n",
       "    .dataframe thead th {\n",
       "        text-align: right;\n",
       "    }\n",
       "</style>\n",
       "<table border=\"1\" class=\"dataframe\">\n",
       "  <thead>\n",
       "    <tr style=\"text-align: right;\">\n",
       "      <th></th>\n",
       "      <th>user_id</th>\n",
       "      <th>recipe_id</th>\n",
       "      <th>rating</th>\n",
       "    </tr>\n",
       "  </thead>\n",
       "  <tbody>\n",
       "    <tr>\n",
       "      <th>0</th>\n",
       "      <td>2046</td>\n",
       "      <td>4684</td>\n",
       "      <td>5.0</td>\n",
       "    </tr>\n",
       "    <tr>\n",
       "      <th>1</th>\n",
       "      <td>2046</td>\n",
       "      <td>517</td>\n",
       "      <td>5.0</td>\n",
       "    </tr>\n",
       "    <tr>\n",
       "      <th>2</th>\n",
       "      <td>1773</td>\n",
       "      <td>7435</td>\n",
       "      <td>5.0</td>\n",
       "    </tr>\n",
       "    <tr>\n",
       "      <th>3</th>\n",
       "      <td>1773</td>\n",
       "      <td>278</td>\n",
       "      <td>4.0</td>\n",
       "    </tr>\n",
       "    <tr>\n",
       "      <th>4</th>\n",
       "      <td>2046</td>\n",
       "      <td>3431</td>\n",
       "      <td>5.0</td>\n",
       "    </tr>\n",
       "  </tbody>\n",
       "</table>\n",
       "</div>"
      ],
      "text/plain": [
       "   user_id  recipe_id  rating\n",
       "0     2046       4684     5.0\n",
       "1     2046        517     5.0\n",
       "2     1773       7435     5.0\n",
       "3     1773        278     4.0\n",
       "4     2046       3431     5.0"
      ]
     },
     "execution_count": 3,
     "metadata": {},
     "output_type": "execute_result"
    }
   ],
   "source": [
    "df=df.drop(['date','u','i'],axis=1)\n",
    "df.head()"
   ]
  },
  {
   "cell_type": "markdown",
   "metadata": {},
   "source": [
    "In the shake of this project, I only need to use 3 attributes there are user_id, recipe_id, rating. The rest are no longer in need so I will delete those columns. "
   ]
  },
  {
   "cell_type": "code",
   "execution_count": 4,
   "metadata": {
    "execution": {
     "iopub.execute_input": "2020-12-09T09:05:06.830075Z",
     "iopub.status.busy": "2020-12-09T09:05:06.829449Z",
     "iopub.status.idle": "2020-12-09T09:05:06.845381Z",
     "shell.execute_reply": "2020-12-09T09:05:06.846205Z"
    },
    "papermill": {
     "duration": 0.064167,
     "end_time": "2020-12-09T09:05:06.846445",
     "exception": false,
     "start_time": "2020-12-09T09:05:06.782278",
     "status": "completed"
    },
    "tags": []
   },
   "outputs": [
    {
     "name": "stdout",
     "output_type": "stream",
     "text": [
      "<class 'pandas.core.frame.DataFrame'>\n",
      "RangeIndex: 698901 entries, 0 to 698900\n",
      "Data columns (total 3 columns):\n",
      " #   Column     Non-Null Count   Dtype  \n",
      "---  ------     --------------   -----  \n",
      " 0   user_id    698901 non-null  int64  \n",
      " 1   recipe_id  698901 non-null  int64  \n",
      " 2   rating     698901 non-null  float64\n",
      "dtypes: float64(1), int64(2)\n",
      "memory usage: 16.0 MB\n"
     ]
    }
   ],
   "source": [
    "df.info()"
   ]
  },
  {
   "cell_type": "markdown",
   "metadata": {},
   "source": [
    "I use the .info() to get the information about the dataset. As we can see, there are 698901 entries that mean the dataset has 698901 rows. I deleted all the unnecessary columns, so we only have 3 columns left, and luckily the Dataframe don’t have any null value, that’s mean there aren’t any missing value the data is clean, I can continue doing the project without any barrier.  But in the Dtype column which show the data type of the attributes. We can see that the user_id and recipe_id data type is int64. This data type refers the user_id and recipe_id is integer, that seem meaningless. These 2 attributes should be understood as string not a number. "
   ]
  },
  {
   "cell_type": "code",
   "execution_count": 5,
   "metadata": {},
   "outputs": [
    {
     "name": "stdout",
     "output_type": "stream",
     "text": [
      "<class 'pandas.core.frame.DataFrame'>\n",
      "RangeIndex: 698901 entries, 0 to 698900\n",
      "Data columns (total 3 columns):\n",
      " #   Column     Non-Null Count   Dtype  \n",
      "---  ------     --------------   -----  \n",
      " 0   user_id    698901 non-null  object \n",
      " 1   recipe_id  698901 non-null  object \n",
      " 2   rating     698901 non-null  float64\n",
      "dtypes: float64(1), object(2)\n",
      "memory usage: 16.0+ MB\n"
     ]
    }
   ],
   "source": [
    "df[['user_id','recipe_id']] = df[['user_id','recipe_id']].astype('object')\n",
    "df.info()"
   ]
  },
  {
   "cell_type": "markdown",
   "metadata": {},
   "source": [
    "I change the data type of the user_id, recipe_id into object type that is string type in Python."
   ]
  },
  {
   "cell_type": "markdown",
   "metadata": {},
   "source": [
    "***EDA***"
   ]
  },
  {
   "cell_type": "code",
   "execution_count": 6,
   "metadata": {
    "execution": {
     "iopub.execute_input": "2020-12-09T09:05:09.260011Z",
     "iopub.status.busy": "2020-12-09T09:05:09.259284Z",
     "iopub.status.idle": "2020-12-09T09:05:10.283392Z",
     "shell.execute_reply": "2020-12-09T09:05:10.283981Z"
    },
    "papermill": {
     "duration": 1.080613,
     "end_time": "2020-12-09T09:05:10.284135",
     "exception": false,
     "start_time": "2020-12-09T09:05:09.203522",
     "status": "completed"
    },
    "tags": []
   },
   "outputs": [
    {
     "data": {
      "image/png": "[encoded data removed]",
      "text/plain": [
       "<Figure size 720x432 with 1 Axes>"
      ]
     },
     "metadata": {
      "needs_background": "light"
     },
     "output_type": "display_data"
    }
   ],
   "source": [
    "plt.figure(figsize=(10,6))\n",
    "sns.countplot(x='rating', data=df, palette='winter')\n",
    "plt.xlabel('Rating', fontsize=12)\n",
    "plt.ylabel('Count', fontsize=12)\n",
    "plt.title('Number of Each Rating', fontsize=15)\n",
    "plt.show()"
   ]
  },
  {
   "cell_type": "markdown",
   "metadata": {},
   "source": [
    "I make the bar plot name as number of each rating to understand about rating distribution. The rating range in the horizontal axis and the count of each rating on the vertical axis. As you can see the range of rating are from 0 to 5. And most people have given the rating 5 for the recipes"
   ]
  },
  {
   "cell_type": "code",
   "execution_count": 7,
   "metadata": {},
   "outputs": [
    {
     "name": "stdout",
     "output_type": "stream",
     "text": [
      "\n",
      "Total number of ratings : 698901\n",
      "Total number of users   : 25076\n",
      "Total number of recipes  : 160901\n"
     ]
    }
   ],
   "source": [
    "print(\"\\nTotal number of ratings :\",df.shape[0])\n",
    "print(\"Total number of users   :\", len(np.unique(df.user_id)))\n",
    "print(\"Total number of recipes  :\", len(np.unique(df.recipe_id)))"
   ]
  },
  {
   "cell_type": "code",
   "execution_count": 8,
   "metadata": {
    "execution": {
     "iopub.execute_input": "2020-12-09T09:05:10.570495Z",
     "iopub.status.busy": "2020-12-09T09:05:10.569486Z",
     "iopub.status.idle": "2020-12-09T09:05:16.631399Z",
     "shell.execute_reply": "2020-12-09T09:05:16.629943Z"
    },
    "papermill": {
     "duration": 6.111628,
     "end_time": "2020-12-09T09:05:16.631523",
     "exception": false,
     "start_time": "2020-12-09T09:05:10.519895",
     "status": "completed"
    },
    "tags": []
   },
   "outputs": [
    {
     "data": {
      "text/html": [
       "<div>\n",
       "<style scoped>\n",
       "    .dataframe tbody tr th:only-of-type {\n",
       "        vertical-align: middle;\n",
       "    }\n",
       "\n",
       "    .dataframe tbody tr th {\n",
       "        vertical-align: top;\n",
       "    }\n",
       "\n",
       "    .dataframe thead th {\n",
       "        text-align: right;\n",
       "    }\n",
       "</style>\n",
       "<table border=\"1\" class=\"dataframe\">\n",
       "  <thead>\n",
       "    <tr style=\"text-align: right;\">\n",
       "      <th></th>\n",
       "      <th>Number of Rating</th>\n",
       "      <th>Mean Rating</th>\n",
       "    </tr>\n",
       "    <tr>\n",
       "      <th>recipe_id</th>\n",
       "      <th></th>\n",
       "      <th></th>\n",
       "    </tr>\n",
       "  </thead>\n",
       "  <tbody>\n",
       "    <tr>\n",
       "      <th>38</th>\n",
       "      <td>3</td>\n",
       "      <td>4.333333</td>\n",
       "    </tr>\n",
       "    <tr>\n",
       "      <th>40</th>\n",
       "      <td>5</td>\n",
       "      <td>4.800000</td>\n",
       "    </tr>\n",
       "    <tr>\n",
       "      <th>45</th>\n",
       "      <td>2</td>\n",
       "      <td>4.000000</td>\n",
       "    </tr>\n",
       "    <tr>\n",
       "      <th>46</th>\n",
       "      <td>2</td>\n",
       "      <td>5.000000</td>\n",
       "    </tr>\n",
       "    <tr>\n",
       "      <th>49</th>\n",
       "      <td>12</td>\n",
       "      <td>4.000000</td>\n",
       "    </tr>\n",
       "  </tbody>\n",
       "</table>\n",
       "</div>"
      ],
      "text/plain": [
       "           Number of Rating  Mean Rating\n",
       "recipe_id                               \n",
       "38                        3     4.333333\n",
       "40                        5     4.800000\n",
       "45                        2     4.000000\n",
       "46                        2     5.000000\n",
       "49                       12     4.000000"
      ]
     },
     "execution_count": 8,
     "metadata": {},
     "output_type": "execute_result"
    }
   ],
   "source": [
    "df_rating=pd.DataFrame({'Number of Rating':df.groupby('recipe_id').count()['rating'], \n",
    "                        'Mean Rating':df.groupby('recipe_id').mean()['rating']})\n",
    "df_rating.head()"
   ]
  },
  {
   "cell_type": "code",
   "execution_count": 9,
   "metadata": {},
   "outputs": [
    {
     "data": {
      "text/html": [
       "<div>\n",
       "<style scoped>\n",
       "    .dataframe tbody tr th:only-of-type {\n",
       "        vertical-align: middle;\n",
       "    }\n",
       "\n",
       "    .dataframe tbody tr th {\n",
       "        vertical-align: top;\n",
       "    }\n",
       "\n",
       "    .dataframe thead th {\n",
       "        text-align: right;\n",
       "    }\n",
       "</style>\n",
       "<table border=\"1\" class=\"dataframe\">\n",
       "  <thead>\n",
       "    <tr style=\"text-align: right;\">\n",
       "      <th></th>\n",
       "      <th>Number of Rating</th>\n",
       "      <th>Mean Rating</th>\n",
       "    </tr>\n",
       "    <tr>\n",
       "      <th>recipe_id</th>\n",
       "      <th></th>\n",
       "      <th></th>\n",
       "    </tr>\n",
       "  </thead>\n",
       "  <tbody>\n",
       "    <tr>\n",
       "      <th>27208</th>\n",
       "      <td>1091</td>\n",
       "      <td>4.413382</td>\n",
       "    </tr>\n",
       "    <tr>\n",
       "      <th>89204</th>\n",
       "      <td>1075</td>\n",
       "      <td>4.346977</td>\n",
       "    </tr>\n",
       "    <tr>\n",
       "      <th>32204</th>\n",
       "      <td>897</td>\n",
       "      <td>4.608696</td>\n",
       "    </tr>\n",
       "    <tr>\n",
       "      <th>39087</th>\n",
       "      <td>894</td>\n",
       "      <td>4.691275</td>\n",
       "    </tr>\n",
       "    <tr>\n",
       "      <th>69173</th>\n",
       "      <td>787</td>\n",
       "      <td>4.777637</td>\n",
       "    </tr>\n",
       "  </tbody>\n",
       "</table>\n",
       "</div>"
      ],
      "text/plain": [
       "           Number of Rating  Mean Rating\n",
       "recipe_id                               \n",
       "27208                  1091     4.413382\n",
       "89204                  1075     4.346977\n",
       "32204                   897     4.608696\n",
       "39087                   894     4.691275\n",
       "69173                   787     4.777637"
      ]
     },
     "execution_count": 9,
     "metadata": {},
     "output_type": "execute_result"
    }
   ],
   "source": [
    "df_rating.sort_values('Number of Rating',ascending=False).head()"
   ]
  },
  {
   "cell_type": "code",
   "execution_count": 10,
   "metadata": {
    "execution": {
     "iopub.execute_input": "2020-12-09T09:05:16.857595Z",
     "iopub.status.busy": "2020-12-09T09:05:16.850160Z",
     "iopub.status.idle": "2020-12-09T09:05:17.249794Z",
     "shell.execute_reply": "2020-12-09T09:05:17.249190Z"
    },
    "papermill": {
     "duration": 0.464383,
     "end_time": "2020-12-09T09:05:17.249913",
     "exception": false,
     "start_time": "2020-12-09T09:05:16.785530",
     "status": "completed"
    },
    "tags": []
   },
   "outputs": [
    {
     "data": {
      "image/png": "[encoded data removed]",
      "text/plain": [
       "<Figure size 1296x432 with 2 Axes>"
      ]
     },
     "metadata": {
      "needs_background": "light"
     },
     "output_type": "display_data"
    }
   ],
   "source": [
    "plt.figure(figsize=(18,6))\n",
    "\n",
    "plt.subplot(1,2,1)\n",
    "plt.hist(x='Number of Rating',data=df_rating,bins=30,color='teal')\n",
    "plt.title('Distribution of Number of Rating', fontsize=15)\n",
    "plt.xlabel('Number of Rating', fontsize=12)\n",
    "plt.ylabel('Frequency', fontsize=12)\n",
    "\n",
    "plt.subplot(1,2,2)\n",
    "plt.hist(x='Mean Rating',data=df_rating,bins=30, color='slateblue')\n",
    "plt.title('Distribution of Mean Rating', fontsize=15)\n",
    "plt.xlabel('Mean Rating', fontsize=12)\n",
    "plt.yticks([])\n",
    "plt.show()"
   ]
  },
  {
   "cell_type": "markdown",
   "metadata": {},
   "source": [
    "From these histograms we can see that most the number of ratings is between of ratings are between 0 and 1091, and most of the products have mean rating of 5. "
   ]
  },
  {
   "cell_type": "code",
   "execution_count": 11,
   "metadata": {
    "execution": {
     "iopub.execute_input": "2020-12-09T09:05:17.549941Z",
     "iopub.status.busy": "2020-12-09T09:05:17.548391Z",
     "iopub.status.idle": "2020-12-09T09:05:19.515753Z",
     "shell.execute_reply": "2020-12-09T09:05:19.516308Z"
    },
    "papermill": {
     "duration": 2.022568,
     "end_time": "2020-12-09T09:05:19.516454",
     "exception": false,
     "start_time": "2020-12-09T09:05:17.493886",
     "status": "completed"
    },
    "tags": []
   },
   "outputs": [
    {
     "data": {
      "text/plain": [
       "<Figure size 576x432 with 0 Axes>"
      ]
     },
     "metadata": {},
     "output_type": "display_data"
    },
    {
     "data": {
      "image/png": "[encoded data removed]",
      "text/plain": [
       "<Figure size 504x504 with 3 Axes>"
      ]
     },
     "metadata": {
      "needs_background": "light"
     },
     "output_type": "display_data"
    }
   ],
   "source": [
    "plt.figure(figsize=(8,6))\n",
    "sns.jointplot(x='Number of Rating', y='Mean Rating',data=df_rating,color='g', height=7)\n",
    "plt.suptitle('Mean Rating Versus Number of Rating', fontsize=15, y=0.92)\n",
    "\n",
    "plt.show()"
   ]
  },
  {
   "cell_type": "markdown",
   "metadata": {},
   "source": [
    "I create a scatter plot to observe the relationship between Number of Rating and Mean Rating."
   ]
  },
  {
   "cell_type": "markdown",
   "metadata": {},
   "source": [
    "***Popularity-Based Recommender***"
   ]
  },
  {
   "cell_type": "markdown",
   "metadata": {},
   "source": [
    "The implementation of Popularity-Based Filtering is straightforward. All we must do is sort our products based on ratings and display the top products of our list. Therefore, we should:\n",
    "\n",
    "- Create a metric to score or rate the products.\n",
    "- Calculate the score for every product.\n",
    "- Sort the scores and recommend the best rated product to the users.\n",
    "\n",
    "We can use the average ratings of the products as the score but using this will not be fair enough since a product with 5average rating and only43 votes cannot be considered better than the product with 4 as average rating but 40 votes. So, we use IMDB's weighted rating formula to score the products, as follows:\n",
    "\n",
    "Weighted Rating (WR) = $(\\frac{v}{v+m}.R)+(\\frac{m}{v+m}.C)$\n",
    "\n",
    "- v: the number of votes for the recipe\n",
    "- m: the minimum votes required to be listed in the chart\n",
    "- R: the average rating of the recipe\n",
    "- C: the mean vote across the whole report\n"
   ]
  },
  {
   "cell_type": "markdown",
   "metadata": {},
   "source": [
    "In this dataset, we have number of ratings 698901, and 25076 users, and 160901 recipes. (v=698901)"
   ]
  },
  {
   "cell_type": "markdown",
   "metadata": {},
   "source": [
    "I made table to see the number of ratings per recipe and mean rating of that recipe. And we have (R) as Mean Rating."
   ]
  },
  {
   "cell_type": "code",
   "execution_count": 12,
   "metadata": {
    "execution": {
     "iopub.execute_input": "2020-12-09T09:05:20.026556Z",
     "iopub.status.busy": "2020-12-09T09:05:20.025796Z",
     "iopub.status.idle": "2020-12-09T09:05:20.032037Z",
     "shell.execute_reply": "2020-12-09T09:05:20.032596Z"
    },
    "papermill": {
     "duration": 0.062107,
     "end_time": "2020-12-09T09:05:20.032781",
     "exception": false,
     "start_time": "2020-12-09T09:05:19.970674",
     "status": "completed"
    },
    "tags": []
   },
   "outputs": [
    {
     "data": {
      "text/plain": [
       "4.5033020347724735"
      ]
     },
     "execution_count": 12,
     "metadata": {},
     "output_type": "execute_result"
    }
   ],
   "source": [
    "df_rating['Mean Rating'].mean()"
   ]
  },
  {
   "cell_type": "markdown",
   "metadata": {},
   "source": [
    "After that I calculate the mean vote across Dataframe as C = 4.5033 on a scale of 5"
   ]
  },
  {
   "cell_type": "code",
   "execution_count": 13,
   "metadata": {
    "execution": {
     "iopub.execute_input": "2020-12-09T09:05:20.239701Z",
     "iopub.status.busy": "2020-12-09T09:05:20.238976Z",
     "iopub.status.idle": "2020-12-09T09:05:20.258711Z",
     "shell.execute_reply": "2020-12-09T09:05:20.258024Z"
    },
    "papermill": {
     "duration": 0.073131,
     "end_time": "2020-12-09T09:05:20.258841",
     "exception": false,
     "start_time": "2020-12-09T09:05:20.185710",
     "status": "completed"
    },
    "tags": []
   },
   "outputs": [
    {
     "data": {
      "text/plain": [
       "8.0"
      ]
     },
     "execution_count": 13,
     "metadata": {},
     "output_type": "execute_result"
    }
   ],
   "source": [
    "df_rating['Number of Rating'].quantile(q=0.9)"
   ]
  },
  {
   "cell_type": "markdown",
   "metadata": {},
   "source": [
    "The next step is to determine an appropriate value for m, the minimum number of votes required for a product to be listed in the chart. We use 90th percentile as our cutoff. In other words, for a product to feature in the charts, the number of its votes should be higher than that of 90% of the products in the list. (m=8)"
   ]
  },
  {
   "cell_type": "code",
   "execution_count": 14,
   "metadata": {
    "execution": {
     "iopub.execute_input": "2020-12-09T09:05:20.472274Z",
     "iopub.status.busy": "2020-12-09T09:05:20.471286Z",
     "iopub.status.idle": "2020-12-09T09:05:20.509208Z",
     "shell.execute_reply": "2020-12-09T09:05:20.508410Z"
    },
    "papermill": {
     "duration": 0.095082,
     "end_time": "2020-12-09T09:05:20.509330",
     "exception": false,
     "start_time": "2020-12-09T09:05:20.414248",
     "status": "completed"
    },
    "tags": []
   },
   "outputs": [],
   "source": [
    "df_filtered=df_rating[df_rating['Number of Rating']>df_rating['Number of Rating'].quantile(q=0.9)]"
   ]
  },
  {
   "cell_type": "code",
   "execution_count": 15,
   "metadata": {
    "execution": {
     "iopub.execute_input": "2020-12-09T09:05:20.617341Z",
     "iopub.status.busy": "2020-12-09T09:05:20.616670Z",
     "iopub.status.idle": "2020-12-09T09:05:20.619693Z",
     "shell.execute_reply": "2020-12-09T09:05:20.620193Z"
    },
    "papermill": {
     "duration": 0.059193,
     "end_time": "2020-12-09T09:05:20.620331",
     "exception": false,
     "start_time": "2020-12-09T09:05:20.561138",
     "status": "completed"
    },
    "tags": []
   },
   "outputs": [
    {
     "data": {
      "text/plain": [
       "(15051, 2)"
      ]
     },
     "execution_count": 15,
     "metadata": {},
     "output_type": "execute_result"
    }
   ],
   "source": [
    "df_filtered.shape"
   ]
  },
  {
   "cell_type": "markdown",
   "metadata": {},
   "source": [
    "Now, we filter the products that qualify for the chart and put them in a new dataframe called df_filtered. We see that there are 15051 products which qualify to be in this list."
   ]
  },
  {
   "cell_type": "code",
   "execution_count": 16,
   "metadata": {
    "execution": {
     "iopub.execute_input": "2020-12-09T09:05:20.985979Z",
     "iopub.status.busy": "2020-12-09T09:05:20.985275Z",
     "iopub.status.idle": "2020-12-09T09:05:20.988653Z",
     "shell.execute_reply": "2020-12-09T09:05:20.988127Z"
    },
    "papermill": {
     "duration": 0.061819,
     "end_time": "2020-12-09T09:05:20.988780",
     "exception": false,
     "start_time": "2020-12-09T09:05:20.926961",
     "status": "completed"
    },
    "tags": []
   },
   "outputs": [],
   "source": [
    "def recipe_score(x):\n",
    "    v=x['Number of Rating']\n",
    "    m=df_rating['Number of Rating'].quantile(q=0.9)\n",
    "    R=x['Mean Rating']\n",
    "    C=df_rating['Mean Rating'].mean()\n",
    "    return ((R*v)/(v+m))+((C*m)/(v+m))"
   ]
  },
  {
   "cell_type": "markdown",
   "metadata": {},
   "source": [
    "Now, we calculate score for each qualified product. To do this, we define a function, recipe_score(), and apply this function to the DataFrame of qualified products."
   ]
  },
  {
   "cell_type": "code",
   "execution_count": 17,
   "metadata": {
    "execution": {
     "iopub.execute_input": "2020-12-09T09:05:21.097771Z",
     "iopub.status.busy": "2020-12-09T09:05:21.097056Z",
     "iopub.status.idle": "2020-12-09T09:13:12.526485Z",
     "shell.execute_reply": "2020-12-09T09:13:12.527362Z"
    },
    "papermill": {
     "duration": 471.48717,
     "end_time": "2020-12-09T09:13:12.527594",
     "exception": false,
     "start_time": "2020-12-09T09:05:21.040424",
     "status": "completed"
    },
    "tags": []
   },
   "outputs": [],
   "source": [
    "df_filtered=df_filtered.assign(score=recipe_score(df_filtered))"
   ]
  },
  {
   "cell_type": "code",
   "execution_count": 18,
   "metadata": {
    "execution": {
     "iopub.execute_input": "2020-12-09T09:13:12.637398Z",
     "iopub.status.busy": "2020-12-09T09:13:12.636325Z",
     "iopub.status.idle": "2020-12-09T09:13:12.647788Z",
     "shell.execute_reply": "2020-12-09T09:13:12.648322Z"
    },
    "papermill": {
     "duration": 0.068041,
     "end_time": "2020-12-09T09:13:12.648467",
     "exception": false,
     "start_time": "2020-12-09T09:13:12.580426",
     "status": "completed"
    },
    "tags": []
   },
   "outputs": [
    {
     "data": {
      "text/html": [
       "<div>\n",
       "<style scoped>\n",
       "    .dataframe tbody tr th:only-of-type {\n",
       "        vertical-align: middle;\n",
       "    }\n",
       "\n",
       "    .dataframe tbody tr th {\n",
       "        vertical-align: top;\n",
       "    }\n",
       "\n",
       "    .dataframe thead th {\n",
       "        text-align: right;\n",
       "    }\n",
       "</style>\n",
       "<table border=\"1\" class=\"dataframe\">\n",
       "  <thead>\n",
       "    <tr style=\"text-align: right;\">\n",
       "      <th></th>\n",
       "      <th>Number of Rating</th>\n",
       "      <th>Mean Rating</th>\n",
       "      <th>score</th>\n",
       "    </tr>\n",
       "    <tr>\n",
       "      <th>recipe_id</th>\n",
       "      <th></th>\n",
       "      <th></th>\n",
       "      <th></th>\n",
       "    </tr>\n",
       "  </thead>\n",
       "  <tbody>\n",
       "    <tr>\n",
       "      <th>49</th>\n",
       "      <td>12</td>\n",
       "      <td>4.000000</td>\n",
       "      <td>4.201321</td>\n",
       "    </tr>\n",
       "    <tr>\n",
       "      <th>62</th>\n",
       "      <td>21</td>\n",
       "      <td>4.666667</td>\n",
       "      <td>4.621601</td>\n",
       "    </tr>\n",
       "    <tr>\n",
       "      <th>66</th>\n",
       "      <td>15</td>\n",
       "      <td>4.933333</td>\n",
       "      <td>4.783757</td>\n",
       "    </tr>\n",
       "    <tr>\n",
       "      <th>142</th>\n",
       "      <td>17</td>\n",
       "      <td>4.588235</td>\n",
       "      <td>4.561057</td>\n",
       "    </tr>\n",
       "    <tr>\n",
       "      <th>167</th>\n",
       "      <td>16</td>\n",
       "      <td>4.625000</td>\n",
       "      <td>4.584434</td>\n",
       "    </tr>\n",
       "  </tbody>\n",
       "</table>\n",
       "</div>"
      ],
      "text/plain": [
       "           Number of Rating  Mean Rating     score\n",
       "recipe_id                                         \n",
       "49                       12     4.000000  4.201321\n",
       "62                       21     4.666667  4.621601\n",
       "66                       15     4.933333  4.783757\n",
       "142                      17     4.588235  4.561057\n",
       "167                      16     4.625000  4.584434"
      ]
     },
     "execution_count": 18,
     "metadata": {},
     "output_type": "execute_result"
    }
   ],
   "source": [
    "df_filtered.head()"
   ]
  },
  {
   "cell_type": "code",
   "execution_count": 19,
   "metadata": {
    "execution": {
     "iopub.execute_input": "2020-12-09T09:13:12.865842Z",
     "iopub.status.busy": "2020-12-09T09:13:12.864761Z",
     "iopub.status.idle": "2020-12-09T09:13:12.883534Z",
     "shell.execute_reply": "2020-12-09T09:13:12.882794Z"
    },
    "papermill": {
     "duration": 0.075416,
     "end_time": "2020-12-09T09:13:12.883670",
     "exception": false,
     "start_time": "2020-12-09T09:13:12.808254",
     "status": "completed"
    },
    "tags": []
   },
   "outputs": [],
   "source": [
    "df_highscore=df_filtered.sort_values(by='score', ascending=False).head(10)"
   ]
  },
  {
   "cell_type": "code",
   "execution_count": 20,
   "metadata": {
    "execution": {
     "iopub.execute_input": "2020-12-09T09:13:12.993931Z",
     "iopub.status.busy": "2020-12-09T09:13:12.993259Z",
     "iopub.status.idle": "2020-12-09T09:13:13.004460Z",
     "shell.execute_reply": "2020-12-09T09:13:13.003868Z"
    },
    "papermill": {
     "duration": 0.067137,
     "end_time": "2020-12-09T09:13:13.004570",
     "exception": false,
     "start_time": "2020-12-09T09:13:12.937433",
     "status": "completed"
    },
    "tags": []
   },
   "outputs": [
    {
     "data": {
      "text/html": [
       "<div>\n",
       "<style scoped>\n",
       "    .dataframe tbody tr th:only-of-type {\n",
       "        vertical-align: middle;\n",
       "    }\n",
       "\n",
       "    .dataframe tbody tr th {\n",
       "        vertical-align: top;\n",
       "    }\n",
       "\n",
       "    .dataframe thead th {\n",
       "        text-align: right;\n",
       "    }\n",
       "</style>\n",
       "<table border=\"1\" class=\"dataframe\">\n",
       "  <thead>\n",
       "    <tr style=\"text-align: right;\">\n",
       "      <th></th>\n",
       "      <th>Number of Rating</th>\n",
       "      <th>Mean Rating</th>\n",
       "      <th>score</th>\n",
       "    </tr>\n",
       "    <tr>\n",
       "      <th>recipe_id</th>\n",
       "      <th></th>\n",
       "      <th></th>\n",
       "      <th></th>\n",
       "    </tr>\n",
       "  </thead>\n",
       "  <tbody>\n",
       "    <tr>\n",
       "      <th>186029</th>\n",
       "      <td>56</td>\n",
       "      <td>5.000000</td>\n",
       "      <td>4.937913</td>\n",
       "    </tr>\n",
       "    <tr>\n",
       "      <th>55309</th>\n",
       "      <td>48</td>\n",
       "      <td>5.000000</td>\n",
       "      <td>4.929043</td>\n",
       "    </tr>\n",
       "    <tr>\n",
       "      <th>25094</th>\n",
       "      <td>63</td>\n",
       "      <td>4.968254</td>\n",
       "      <td>4.915865</td>\n",
       "    </tr>\n",
       "    <tr>\n",
       "      <th>107059</th>\n",
       "      <td>39</td>\n",
       "      <td>5.000000</td>\n",
       "      <td>4.915456</td>\n",
       "    </tr>\n",
       "    <tr>\n",
       "      <th>107440</th>\n",
       "      <td>60</td>\n",
       "      <td>4.966667</td>\n",
       "      <td>4.912153</td>\n",
       "    </tr>\n",
       "    <tr>\n",
       "      <th>166669</th>\n",
       "      <td>35</td>\n",
       "      <td>5.000000</td>\n",
       "      <td>4.907591</td>\n",
       "    </tr>\n",
       "    <tr>\n",
       "      <th>153877</th>\n",
       "      <td>34</td>\n",
       "      <td>5.000000</td>\n",
       "      <td>4.905391</td>\n",
       "    </tr>\n",
       "    <tr>\n",
       "      <th>2677</th>\n",
       "      <td>32</td>\n",
       "      <td>5.000000</td>\n",
       "      <td>4.900660</td>\n",
       "    </tr>\n",
       "    <tr>\n",
       "      <th>24768</th>\n",
       "      <td>32</td>\n",
       "      <td>5.000000</td>\n",
       "      <td>4.900660</td>\n",
       "    </tr>\n",
       "    <tr>\n",
       "      <th>128566</th>\n",
       "      <td>101</td>\n",
       "      <td>4.930693</td>\n",
       "      <td>4.899325</td>\n",
       "    </tr>\n",
       "  </tbody>\n",
       "</table>\n",
       "</div>"
      ],
      "text/plain": [
       "           Number of Rating  Mean Rating     score\n",
       "recipe_id                                         \n",
       "186029                   56     5.000000  4.937913\n",
       "55309                    48     5.000000  4.929043\n",
       "25094                    63     4.968254  4.915865\n",
       "107059                   39     5.000000  4.915456\n",
       "107440                   60     4.966667  4.912153\n",
       "166669                   35     5.000000  4.907591\n",
       "153877                   34     5.000000  4.905391\n",
       "2677                     32     5.000000  4.900660\n",
       "24768                    32     5.000000  4.900660\n",
       "128566                  101     4.930693  4.899325"
      ]
     },
     "execution_count": 20,
     "metadata": {},
     "output_type": "execute_result"
    }
   ],
   "source": [
    "df_highscore"
   ]
  },
  {
   "cell_type": "markdown",
   "metadata": {},
   "source": [
    "Finally, we sort the dataframe based on the score feature, and we print out top 10 popular products. "
   ]
  },
  {
   "cell_type": "code",
   "execution_count": 21,
   "metadata": {
    "execution": {
     "iopub.execute_input": "2020-12-09T09:13:13.115816Z",
     "iopub.status.busy": "2020-12-09T09:13:13.115162Z",
     "iopub.status.idle": "2020-12-09T09:13:13.120161Z",
     "shell.execute_reply": "2020-12-09T09:13:13.120695Z"
    },
    "papermill": {
     "duration": 0.062625,
     "end_time": "2020-12-09T09:13:13.120837",
     "exception": false,
     "start_time": "2020-12-09T09:13:13.058212",
     "status": "completed"
    },
    "tags": []
   },
   "outputs": [
    {
     "data": {
      "text/plain": [
       "Int64Index([186029, 55309, 25094, 107059, 107440, 166669, 153877, 2677, 24768,\n",
       "            128566],\n",
       "           dtype='int64', name='recipe_id')"
      ]
     },
     "execution_count": 21,
     "metadata": {},
     "output_type": "execute_result"
    }
   ],
   "source": [
    "df_highscore.index"
   ]
  },
  {
   "cell_type": "markdown",
   "metadata": {},
   "source": [
    "So the top 10 popular products that this model will recommend to users include '186029', '55309', '25094', '107059', '107440','166669', '153877', '2677', '24768' and '128566'.\n",
    "\n",
    "We should keep in mind that this popularity-based recommender provides a general table of recommended products to all the users, regardless of the user's personal taste. It is not sensitive to the interests and tastes of a particular user, and it does not give personalized recommendations based on the users.\n"
   ]
  },
  {
   "cell_type": "markdown",
   "metadata": {},
   "source": [
    "***Collaborative recommender***"
   ]
  },
  {
   "cell_type": "markdown",
   "metadata": {},
   "source": [
    "Our popularity-based recommender engine suffers from some severe limitations. It is not really personal and does not capture the personal tastes and biases of a user. Anyone querying our engine for recommendations based on a recipe will receive the same recommendations for that product, regardless of who they are.\n",
    "\n",
    "Therefore, in this section, I will use a technique called Collaborative Filtering to make better recommendations to Amazon customers.\n",
    "\n",
    "Collaborative Filtering matches persons with similar interests and provides recommendations based on this matching. It is based on the idea that users similar to me can be used to predict how much I will like a particular product or service those users have used/experienced but I have not.\n",
    "\n",
    "Surprise library is a Python scikit for building and analyzing recommender systems that deal with explicit rating data. Here we use the Surprise library that uses extremely powerful algorithms like Singular Value Decomposition (SVD) to minimise Root Mean Square Error (RMSE) that is measured by Kfold Cross Validation and give great recommendations.\n"
   ]
  },
  {
   "cell_type": "code",
   "execution_count": 22,
   "metadata": {
    "execution": {
     "iopub.execute_input": "2020-12-09T09:13:13.774267Z",
     "iopub.status.busy": "2020-12-09T09:13:13.773522Z",
     "iopub.status.idle": "2020-12-09T09:13:13.776573Z",
     "shell.execute_reply": "2020-12-09T09:13:13.776053Z"
    },
    "papermill": {
     "duration": 0.061536,
     "end_time": "2020-12-09T09:13:13.776702",
     "exception": false,
     "start_time": "2020-12-09T09:13:13.715166",
     "status": "completed"
    },
    "tags": []
   },
   "outputs": [],
   "source": [
    "svd = SVD()"
   ]
  },
  {
   "cell_type": "code",
   "execution_count": 23,
   "metadata": {
    "execution": {
     "iopub.execute_input": "2020-12-09T09:13:13.891979Z",
     "iopub.status.busy": "2020-12-09T09:13:13.891312Z",
     "iopub.status.idle": "2020-12-09T09:13:13.894121Z",
     "shell.execute_reply": "2020-12-09T09:13:13.894657Z"
    },
    "papermill": {
     "duration": 0.063561,
     "end_time": "2020-12-09T09:13:13.894798",
     "exception": false,
     "start_time": "2020-12-09T09:13:13.831237",
     "status": "completed"
    },
    "tags": []
   },
   "outputs": [],
   "source": [
    "reader = Reader()"
   ]
  },
  {
   "cell_type": "code",
   "execution_count": 24,
   "metadata": {
    "execution": {
     "iopub.execute_input": "2020-12-09T09:13:14.395977Z",
     "iopub.status.busy": "2020-12-09T09:13:14.359250Z",
     "iopub.status.idle": "2020-12-09T09:13:25.632486Z",
     "shell.execute_reply": "2020-12-09T09:13:25.631594Z"
    },
    "papermill": {
     "duration": 11.574081,
     "end_time": "2020-12-09T09:13:25.632612",
     "exception": false,
     "start_time": "2020-12-09T09:13:14.058531",
     "status": "completed"
    },
    "tags": []
   },
   "outputs": [],
   "source": [
    "data = Dataset.load_from_df(df[['user_id', 'recipe_id', 'rating']], reader)"
   ]
  },
  {
   "cell_type": "markdown",
   "metadata": {
    "papermill": {
     "duration": 0.053976,
     "end_time": "2020-12-09T09:13:25.741321",
     "exception": false,
     "start_time": "2020-12-09T09:13:25.687345",
     "status": "completed"
    },
    "tags": []
   },
   "source": [
    "We use SVD algorithm and load the dataset."
   ]
  },
  {
   "cell_type": "code",
   "execution_count": 25,
   "metadata": {
    "execution": {
     "iopub.execute_input": "2020-12-09T09:13:25.854621Z",
     "iopub.status.busy": "2020-12-09T09:13:25.853650Z",
     "iopub.status.idle": "2020-12-09T10:25:12.740887Z",
     "shell.execute_reply": "2020-12-09T10:25:12.740251Z"
    },
    "papermill": {
     "duration": 4306.945203,
     "end_time": "2020-12-09T10:25:12.741010",
     "exception": false,
     "start_time": "2020-12-09T09:13:25.795807",
     "status": "completed"
    },
    "tags": []
   },
   "outputs": [
    {
     "name": "stdout",
     "output_type": "stream",
     "text": [
      "Evaluating RMSE, MAE of algorithm SVD on 5 split(s).\n",
      "\n",
      "                  Fold 1  Fold 2  Fold 3  Fold 4  Fold 5  Mean    Std     \n",
      "RMSE (testset)    0.9203  0.9263  0.9208  0.9102  0.9230  0.9201  0.0054  \n",
      "MAE (testset)     0.5450  0.5453  0.5439  0.5388  0.5451  0.5436  0.0025  \n",
      "Fit time          34.13   33.26   38.95   37.78   34.51   35.73   2.22    \n",
      "Test time         1.24    1.09    1.73    1.34    1.36    1.35    0.21    \n"
     ]
    },
    {
     "data": {
      "text/plain": [
       "{'test_rmse': array([0.92027646, 0.92629801, 0.92080848, 0.91021106, 0.92300828]),\n",
       " 'test_mae': array([0.54496065, 0.54531713, 0.54389521, 0.53880631, 0.54511945]),\n",
       " 'fit_time': (34.13126611709595,\n",
       "  33.26253867149353,\n",
       "  38.952271938323975,\n",
       "  37.777955293655396,\n",
       "  34.509873151779175),\n",
       " 'test_time': (1.2431633472442627,\n",
       "  1.0911896228790283,\n",
       "  1.7330577373504639,\n",
       "  1.3417630195617676,\n",
       "  1.3561387062072754)}"
      ]
     },
     "execution_count": 25,
     "metadata": {},
     "output_type": "execute_result"
    }
   ],
   "source": [
    "cross_validate(svd, data, measures=['RMSE', 'MAE'], cv=5, verbose=True)"
   ]
  },
  {
   "cell_type": "markdown",
   "metadata": {},
   "source": [
    "Then we run 5-fold cross-validation and print the results. We get Root Mean Square Error of 0.9206 which is good. Now I will train on the dataset and do predictions."
   ]
  },
  {
   "cell_type": "code",
   "execution_count": 26,
   "metadata": {
    "execution": {
     "iopub.execute_input": "2020-12-09T10:25:12.972040Z",
     "iopub.status.busy": "2020-12-09T10:25:12.971036Z",
     "iopub.status.idle": "2020-12-09T10:25:51.329102Z",
     "shell.execute_reply": "2020-12-09T10:25:51.329671Z"
    },
    "papermill": {
     "duration": 38.417321,
     "end_time": "2020-12-09T10:25:51.329830",
     "exception": false,
     "start_time": "2020-12-09T10:25:12.912509",
     "status": "completed"
    },
    "tags": []
   },
   "outputs": [],
   "source": [
    "trainset = data.build_full_trainset()"
   ]
  },
  {
   "cell_type": "code",
   "execution_count": 27,
   "metadata": {
    "execution": {
     "iopub.execute_input": "2020-12-09T10:25:51.555281Z",
     "iopub.status.busy": "2020-12-09T10:25:51.554645Z",
     "iopub.status.idle": "2020-12-09T10:41:25.015541Z",
     "shell.execute_reply": "2020-12-09T10:41:25.016112Z"
    },
    "papermill": {
     "duration": 933.519529,
     "end_time": "2020-12-09T10:41:25.016263",
     "exception": false,
     "start_time": "2020-12-09T10:25:51.496734",
     "status": "completed"
    },
    "tags": []
   },
   "outputs": [
    {
     "data": {
      "text/plain": [
       "<surprise.prediction_algorithms.matrix_factorization.SVD at 0x1f692240400>"
      ]
     },
     "execution_count": 27,
     "metadata": {},
     "output_type": "execute_result"
    }
   ],
   "source": [
    "svd.fit(trainset)"
   ]
  },
  {
   "cell_type": "markdown",
   "metadata": {},
   "source": [
    "We train the algorithm on the trainset"
   ]
  },
  {
   "cell_type": "code",
   "execution_count": 28,
   "metadata": {
    "execution": {
     "iopub.execute_input": "2020-12-09T10:41:26.631131Z",
     "iopub.status.busy": "2020-12-09T10:41:26.629920Z",
     "iopub.status.idle": "2020-12-09T10:41:26.645390Z",
     "shell.execute_reply": "2020-12-09T10:41:26.644731Z"
    },
    "papermill": {
     "duration": 1.458423,
     "end_time": "2020-12-09T10:41:26.645511",
     "exception": false,
     "start_time": "2020-12-09T10:41:25.187088",
     "status": "completed"
    },
    "tags": []
   },
   "outputs": [
    {
     "data": {
      "text/html": [
       "<div>\n",
       "<style scoped>\n",
       "    .dataframe tbody tr th:only-of-type {\n",
       "        vertical-align: middle;\n",
       "    }\n",
       "\n",
       "    .dataframe tbody tr th {\n",
       "        vertical-align: top;\n",
       "    }\n",
       "\n",
       "    .dataframe thead th {\n",
       "        text-align: right;\n",
       "    }\n",
       "</style>\n",
       "<table border=\"1\" class=\"dataframe\">\n",
       "  <thead>\n",
       "    <tr style=\"text-align: right;\">\n",
       "      <th></th>\n",
       "      <th>user_id</th>\n",
       "      <th>recipe_id</th>\n",
       "      <th>rating</th>\n",
       "    </tr>\n",
       "  </thead>\n",
       "  <tbody>\n",
       "    <tr>\n",
       "      <th>2</th>\n",
       "      <td>1773</td>\n",
       "      <td>7435</td>\n",
       "      <td>5.0</td>\n",
       "    </tr>\n",
       "    <tr>\n",
       "      <th>3</th>\n",
       "      <td>1773</td>\n",
       "      <td>278</td>\n",
       "      <td>4.0</td>\n",
       "    </tr>\n",
       "  </tbody>\n",
       "</table>\n",
       "</div>"
      ],
      "text/plain": [
       "  user_id recipe_id  rating\n",
       "2    1773      7435     5.0\n",
       "3    1773       278     4.0"
      ]
     },
     "execution_count": 28,
     "metadata": {},
     "output_type": "execute_result"
    }
   ],
   "source": [
    "df[df['user_id'] == 1773]"
   ]
  },
  {
   "cell_type": "code",
   "execution_count": 29,
   "metadata": {
    "execution": {
     "iopub.execute_input": "2020-12-09T10:41:27.021558Z",
     "iopub.status.busy": "2020-12-09T10:41:27.020777Z",
     "iopub.status.idle": "2020-12-09T10:41:27.024604Z",
     "shell.execute_reply": "2020-12-09T10:41:27.025089Z"
    },
    "papermill": {
     "duration": 0.069105,
     "end_time": "2020-12-09T10:41:27.025242",
     "exception": false,
     "start_time": "2020-12-09T10:41:26.956137",
     "status": "completed"
    },
    "tags": []
   },
   "outputs": [
    {
     "data": {
      "text/plain": [
       "4.734324395704872"
      ]
     },
     "execution_count": 29,
     "metadata": {},
     "output_type": "execute_result"
    }
   ],
   "source": [
    "svd.predict(uid=1773, iid=280, r_ui=None).est"
   ]
  },
  {
   "cell_type": "markdown",
   "metadata": {},
   "source": [
    "Let us pick the user with user_id of '1773' and check the ratings she/he has given so far to different products. As we can see the user ‘1773’ has given 2 rating so we want to check the different recipe to predict how should he/she would rate that specific product. I will choose specific recipe_id = 280. Our model predicts that userId of '1773' will give 4.38 as the rating for productId of '280'."
   ]
  },
  {
   "cell_type": "markdown",
   "metadata": {},
   "source": [
    "***Hybrid Recommender***"
   ]
  },
  {
   "cell_type": "markdown",
   "metadata": {},
   "source": [
    "In this section, we try to build a hybrid recommender that combines corrwith() method which computes the Pearson correlation coefficients with collaborative filtering. This is how it works:\n",
    "\n",
    "- Input: User ID and Product ID\n",
    "- Output: Similar products sorted based on expected ratings by a particular user.\n"
   ]
  },
  {
   "cell_type": "code",
   "execution_count": 30,
   "metadata": {
    "execution": {
     "iopub.execute_input": "2020-12-09T10:41:28.887235Z",
     "iopub.status.busy": "2020-12-09T10:41:27.921458Z",
     "iopub.status.idle": "2020-12-09T10:51:46.981060Z",
     "shell.execute_reply": "2020-12-09T10:51:46.950552Z"
    },
    "papermill": {
     "duration": 619.316726,
     "end_time": "2020-12-09T10:51:46.981328",
     "exception": false,
     "start_time": "2020-12-09T10:41:27.664602",
     "status": "completed"
    },
    "tags": []
   },
   "outputs": [],
   "source": [
    "df_users=df.groupby('user_id').filter(lambda x: x['rating'].count()>=50)\n",
    "df_users= df_users.sample(frac=0.1)"
   ]
  },
  {
   "cell_type": "code",
   "execution_count": 31,
   "metadata": {
    "execution": {
     "iopub.execute_input": "2020-12-09T10:51:47.115787Z",
     "iopub.status.busy": "2020-12-09T10:51:47.114619Z",
     "iopub.status.idle": "2020-12-09T10:51:47.123315Z",
     "shell.execute_reply": "2020-12-09T10:51:47.122741Z"
    },
    "papermill": {
     "duration": 0.080044,
     "end_time": "2020-12-09T10:51:47.123438",
     "exception": false,
     "start_time": "2020-12-09T10:51:47.043394",
     "status": "completed"
    },
    "tags": []
   },
   "outputs": [
    {
     "data": {
      "text/html": [
       "<div>\n",
       "<style scoped>\n",
       "    .dataframe tbody tr th:only-of-type {\n",
       "        vertical-align: middle;\n",
       "    }\n",
       "\n",
       "    .dataframe tbody tr th {\n",
       "        vertical-align: top;\n",
       "    }\n",
       "\n",
       "    .dataframe thead th {\n",
       "        text-align: right;\n",
       "    }\n",
       "</style>\n",
       "<table border=\"1\" class=\"dataframe\">\n",
       "  <thead>\n",
       "    <tr style=\"text-align: right;\">\n",
       "      <th></th>\n",
       "      <th>user_id</th>\n",
       "      <th>recipe_id</th>\n",
       "      <th>rating</th>\n",
       "    </tr>\n",
       "  </thead>\n",
       "  <tbody>\n",
       "    <tr>\n",
       "      <th>77170</th>\n",
       "      <td>28346</td>\n",
       "      <td>69564</td>\n",
       "      <td>4.0</td>\n",
       "    </tr>\n",
       "    <tr>\n",
       "      <th>129369</th>\n",
       "      <td>130663</td>\n",
       "      <td>127204</td>\n",
       "      <td>5.0</td>\n",
       "    </tr>\n",
       "    <tr>\n",
       "      <th>569593</th>\n",
       "      <td>539686</td>\n",
       "      <td>406625</td>\n",
       "      <td>5.0</td>\n",
       "    </tr>\n",
       "    <tr>\n",
       "      <th>326701</th>\n",
       "      <td>168462</td>\n",
       "      <td>151788</td>\n",
       "      <td>5.0</td>\n",
       "    </tr>\n",
       "    <tr>\n",
       "      <th>167047</th>\n",
       "      <td>239618</td>\n",
       "      <td>103572</td>\n",
       "      <td>4.0</td>\n",
       "    </tr>\n",
       "  </tbody>\n",
       "</table>\n",
       "</div>"
      ],
      "text/plain": [
       "       user_id recipe_id  rating\n",
       "77170    28346     69564     4.0\n",
       "129369  130663    127204     5.0\n",
       "569593  539686    406625     5.0\n",
       "326701  168462    151788     5.0\n",
       "167047  239618    103572     4.0"
      ]
     },
     "execution_count": 31,
     "metadata": {},
     "output_type": "execute_result"
    }
   ],
   "source": [
    "df_users.head()"
   ]
  },
  {
   "cell_type": "markdown",
   "metadata": {},
   "source": [
    "To avoid processing difficulties, we filter data which only contains the customers who have given ratings more than 50 times and put them into a dataframe. Since we are providing the recommendation of the recipe to the customers, it is better to remove data based on the userId rather than recipe_id. "
   ]
  },
  {
   "cell_type": "code",
   "execution_count": 32,
   "metadata": {
    "execution": {
     "iopub.execute_input": "2020-12-09T10:51:47.244726Z",
     "iopub.status.busy": "2020-12-09T10:51:47.243986Z",
     "iopub.status.idle": "2020-12-09T10:51:47.248917Z",
     "shell.execute_reply": "2020-12-09T10:51:47.249448Z"
    },
    "papermill": {
     "duration": 0.06807,
     "end_time": "2020-12-09T10:51:47.249585",
     "exception": false,
     "start_time": "2020-12-09T10:51:47.181515",
     "status": "completed"
    },
    "tags": []
   },
   "outputs": [
    {
     "data": {
      "text/plain": [
       "(48780, 3)"
      ]
     },
     "execution_count": 32,
     "metadata": {},
     "output_type": "execute_result"
    }
   ],
   "source": [
    "df_users.shape"
   ]
  },
  {
   "cell_type": "markdown",
   "metadata": {},
   "source": [
    "The dataframe now only contain 48780 rows.\n"
   ]
  },
  {
   "cell_type": "code",
   "execution_count": 33,
   "metadata": {
    "execution": {
     "iopub.execute_input": "2020-12-09T10:51:47.577147Z",
     "iopub.status.busy": "2020-12-09T10:51:47.576224Z",
     "iopub.status.idle": "2020-12-09T10:51:51.096146Z",
     "shell.execute_reply": "2020-12-09T10:51:51.094964Z"
    },
    "papermill": {
     "duration": 3.60084,
     "end_time": "2020-12-09T10:51:51.096307",
     "exception": false,
     "start_time": "2020-12-09T10:51:47.495467",
     "status": "completed"
    },
    "tags": []
   },
   "outputs": [],
   "source": [
    "matrix=pd.pivot_table(data=df_users, \n",
    "                      values='rating', \n",
    "                      index='user_id',\n",
    "                      columns='recipe_id',\n",
    "                      fill_value=0)"
   ]
  },
  {
   "cell_type": "markdown",
   "metadata": {
    "papermill": {
     "duration": 0.059587,
     "end_time": "2020-12-09T10:51:47.368696",
     "exception": false,
     "start_time": "2020-12-09T10:51:47.309109",
     "status": "completed"
    },
    "tags": []
   },
   "source": [
    "Then we create a pivot table."
   ]
  },
  {
   "cell_type": "code",
   "execution_count": 34,
   "metadata": {
    "execution": {
     "iopub.execute_input": "2020-12-09T10:51:51.244419Z",
     "iopub.status.busy": "2020-12-09T10:51:51.243240Z",
     "iopub.status.idle": "2020-12-09T10:51:51.266496Z",
     "shell.execute_reply": "2020-12-09T10:51:51.267009Z"
    },
    "papermill": {
     "duration": 0.104407,
     "end_time": "2020-12-09T10:51:51.267160",
     "exception": false,
     "start_time": "2020-12-09T10:51:51.162753",
     "status": "completed"
    },
    "tags": []
   },
   "outputs": [
    {
     "data": {
      "text/html": [
       "<div>\n",
       "<style scoped>\n",
       "    .dataframe tbody tr th:only-of-type {\n",
       "        vertical-align: middle;\n",
       "    }\n",
       "\n",
       "    .dataframe tbody tr th {\n",
       "        vertical-align: top;\n",
       "    }\n",
       "\n",
       "    .dataframe thead th {\n",
       "        text-align: right;\n",
       "    }\n",
       "</style>\n",
       "<table border=\"1\" class=\"dataframe\">\n",
       "  <thead>\n",
       "    <tr style=\"text-align: right;\">\n",
       "      <th>recipe_id</th>\n",
       "      <th>40</th>\n",
       "      <th>52</th>\n",
       "      <th>58</th>\n",
       "      <th>62</th>\n",
       "      <th>85</th>\n",
       "      <th>113</th>\n",
       "      <th>123</th>\n",
       "      <th>167</th>\n",
       "      <th>170</th>\n",
       "      <th>181</th>\n",
       "      <th>...</th>\n",
       "      <th>527823</th>\n",
       "      <th>530551</th>\n",
       "      <th>531108</th>\n",
       "      <th>531143</th>\n",
       "      <th>532429</th>\n",
       "      <th>532736</th>\n",
       "      <th>532740</th>\n",
       "      <th>536119</th>\n",
       "      <th>536212</th>\n",
       "      <th>536411</th>\n",
       "    </tr>\n",
       "    <tr>\n",
       "      <th>user_id</th>\n",
       "      <th></th>\n",
       "      <th></th>\n",
       "      <th></th>\n",
       "      <th></th>\n",
       "      <th></th>\n",
       "      <th></th>\n",
       "      <th></th>\n",
       "      <th></th>\n",
       "      <th></th>\n",
       "      <th></th>\n",
       "      <th></th>\n",
       "      <th></th>\n",
       "      <th></th>\n",
       "      <th></th>\n",
       "      <th></th>\n",
       "      <th></th>\n",
       "      <th></th>\n",
       "      <th></th>\n",
       "      <th></th>\n",
       "      <th></th>\n",
       "      <th></th>\n",
       "    </tr>\n",
       "  </thead>\n",
       "  <tbody>\n",
       "    <tr>\n",
       "      <th>1533</th>\n",
       "      <td>0</td>\n",
       "      <td>0</td>\n",
       "      <td>0</td>\n",
       "      <td>0</td>\n",
       "      <td>0</td>\n",
       "      <td>0</td>\n",
       "      <td>0</td>\n",
       "      <td>0</td>\n",
       "      <td>0</td>\n",
       "      <td>0</td>\n",
       "      <td>...</td>\n",
       "      <td>0</td>\n",
       "      <td>0</td>\n",
       "      <td>0</td>\n",
       "      <td>0</td>\n",
       "      <td>0</td>\n",
       "      <td>0</td>\n",
       "      <td>0</td>\n",
       "      <td>0</td>\n",
       "      <td>0</td>\n",
       "      <td>0</td>\n",
       "    </tr>\n",
       "    <tr>\n",
       "      <th>1535</th>\n",
       "      <td>0</td>\n",
       "      <td>0</td>\n",
       "      <td>0</td>\n",
       "      <td>0</td>\n",
       "      <td>0</td>\n",
       "      <td>0</td>\n",
       "      <td>0</td>\n",
       "      <td>0</td>\n",
       "      <td>0</td>\n",
       "      <td>0</td>\n",
       "      <td>...</td>\n",
       "      <td>0</td>\n",
       "      <td>0</td>\n",
       "      <td>0</td>\n",
       "      <td>0</td>\n",
       "      <td>0</td>\n",
       "      <td>0</td>\n",
       "      <td>0</td>\n",
       "      <td>0</td>\n",
       "      <td>0</td>\n",
       "      <td>0</td>\n",
       "    </tr>\n",
       "    <tr>\n",
       "      <th>2310</th>\n",
       "      <td>0</td>\n",
       "      <td>0</td>\n",
       "      <td>0</td>\n",
       "      <td>0</td>\n",
       "      <td>0</td>\n",
       "      <td>0</td>\n",
       "      <td>0</td>\n",
       "      <td>0</td>\n",
       "      <td>0</td>\n",
       "      <td>0</td>\n",
       "      <td>...</td>\n",
       "      <td>0</td>\n",
       "      <td>0</td>\n",
       "      <td>0</td>\n",
       "      <td>0</td>\n",
       "      <td>0</td>\n",
       "      <td>0</td>\n",
       "      <td>0</td>\n",
       "      <td>0</td>\n",
       "      <td>0</td>\n",
       "      <td>0</td>\n",
       "    </tr>\n",
       "    <tr>\n",
       "      <th>2312</th>\n",
       "      <td>0</td>\n",
       "      <td>0</td>\n",
       "      <td>0</td>\n",
       "      <td>0</td>\n",
       "      <td>0</td>\n",
       "      <td>0</td>\n",
       "      <td>0</td>\n",
       "      <td>0</td>\n",
       "      <td>0</td>\n",
       "      <td>0</td>\n",
       "      <td>...</td>\n",
       "      <td>0</td>\n",
       "      <td>0</td>\n",
       "      <td>0</td>\n",
       "      <td>0</td>\n",
       "      <td>0</td>\n",
       "      <td>0</td>\n",
       "      <td>0</td>\n",
       "      <td>0</td>\n",
       "      <td>0</td>\n",
       "      <td>0</td>\n",
       "    </tr>\n",
       "    <tr>\n",
       "      <th>3205</th>\n",
       "      <td>0</td>\n",
       "      <td>0</td>\n",
       "      <td>0</td>\n",
       "      <td>0</td>\n",
       "      <td>0</td>\n",
       "      <td>0</td>\n",
       "      <td>0</td>\n",
       "      <td>0</td>\n",
       "      <td>0</td>\n",
       "      <td>0</td>\n",
       "      <td>...</td>\n",
       "      <td>0</td>\n",
       "      <td>0</td>\n",
       "      <td>0</td>\n",
       "      <td>0</td>\n",
       "      <td>0</td>\n",
       "      <td>0</td>\n",
       "      <td>0</td>\n",
       "      <td>0</td>\n",
       "      <td>0</td>\n",
       "      <td>0</td>\n",
       "    </tr>\n",
       "  </tbody>\n",
       "</table>\n",
       "<p>5 rows × 34925 columns</p>\n",
       "</div>"
      ],
      "text/plain": [
       "recipe_id  40      52      58      62      85      113     123     167     \\\n",
       "user_id                                                                     \n",
       "1533            0       0       0       0       0       0       0       0   \n",
       "1535            0       0       0       0       0       0       0       0   \n",
       "2310            0       0       0       0       0       0       0       0   \n",
       "2312            0       0       0       0       0       0       0       0   \n",
       "3205            0       0       0       0       0       0       0       0   \n",
       "\n",
       "recipe_id  170     181     ...  527823  530551  531108  531143  532429  \\\n",
       "user_id                    ...                                           \n",
       "1533            0       0  ...       0       0       0       0       0   \n",
       "1535            0       0  ...       0       0       0       0       0   \n",
       "2310            0       0  ...       0       0       0       0       0   \n",
       "2312            0       0  ...       0       0       0       0       0   \n",
       "3205            0       0  ...       0       0       0       0       0   \n",
       "\n",
       "recipe_id  532736  532740  536119  536212  536411  \n",
       "user_id                                            \n",
       "1533            0       0       0       0       0  \n",
       "1535            0       0       0       0       0  \n",
       "2310            0       0       0       0       0  \n",
       "2312            0       0       0       0       0  \n",
       "3205            0       0       0       0       0  \n",
       "\n",
       "[5 rows x 34925 columns]"
      ]
     },
     "execution_count": 34,
     "metadata": {},
     "output_type": "execute_result"
    }
   ],
   "source": [
    "matrix.head()"
   ]
  },
  {
   "cell_type": "code",
   "execution_count": 35,
   "metadata": {},
   "outputs": [],
   "source": [
    "a=matrix"
   ]
  },
  {
   "cell_type": "code",
   "execution_count": 36,
   "metadata": {
    "execution": {
     "iopub.execute_input": "2020-12-09T10:51:51.523267Z",
     "iopub.status.busy": "2020-12-09T10:51:51.522335Z",
     "iopub.status.idle": "2020-12-09T10:51:51.526954Z",
     "shell.execute_reply": "2020-12-09T10:51:51.526249Z"
    },
    "papermill": {
     "duration": 0.076578,
     "end_time": "2020-12-09T10:51:51.527071",
     "exception": false,
     "start_time": "2020-12-09T10:51:51.450493",
     "status": "completed"
    },
    "tags": []
   },
   "outputs": [],
   "source": [
    "def hybrid_recommendations(user_id, recipe_id):\n",
    "    top_five=a.corrwith(a[recipe_id]).sort_values(ascending=False).head()\n",
    "    est_rating=[]\n",
    "    for x in list(top_five.index):\n",
    "        if str(top_five[x])!='nan':\n",
    "            est_rating.append(svd.predict(user_id, iid=x, r_ui=None).est)\n",
    "           \n",
    "    return pd.DataFrame({'recipe_id':list(top_five.index)[:len(est_rating)], \n",
    "                         'estimated_rating':est_rating}).sort_values(by='estimated_rating', ascending=False).reset_index(drop=True)"
   ]
  },
  {
   "cell_type": "markdown",
   "metadata": {},
   "source": [
    "Finally, we define a function that takes in recipe_id and use_id as input and outputs up to 5 most similar recipes. For this purpose, I use corrwith() method to compute pairwise correlation between columns of dataFrame and calculate Pearson correlation coefficients."
   ]
  },
  {
   "cell_type": "code",
   "execution_count": 60,
   "metadata": {
    "execution": {
     "iopub.execute_input": "2020-12-09T10:51:51.782179Z",
     "iopub.status.busy": "2020-12-09T10:51:51.781173Z",
     "iopub.status.idle": "2020-12-09T10:51:59.109413Z",
     "shell.execute_reply": "2020-12-09T10:51:59.108843Z"
    },
    "papermill": {
     "duration": 7.397955,
     "end_time": "2020-12-09T10:51:59.109526",
     "exception": false,
     "start_time": "2020-12-09T10:51:51.711571",
     "status": "completed"
    },
    "scrolled": true,
    "tags": []
   },
   "outputs": [
    {
     "data": {
      "text/html": [
       "<div>\n",
       "<style scoped>\n",
       "    .dataframe tbody tr th:only-of-type {\n",
       "        vertical-align: middle;\n",
       "    }\n",
       "\n",
       "    .dataframe tbody tr th {\n",
       "        vertical-align: top;\n",
       "    }\n",
       "\n",
       "    .dataframe thead th {\n",
       "        text-align: right;\n",
       "    }\n",
       "</style>\n",
       "<table border=\"1\" class=\"dataframe\">\n",
       "  <thead>\n",
       "    <tr style=\"text-align: right;\">\n",
       "      <th></th>\n",
       "      <th>recipe_id</th>\n",
       "      <th>estimated_rating</th>\n",
       "    </tr>\n",
       "  </thead>\n",
       "  <tbody>\n",
       "    <tr>\n",
       "      <th>0</th>\n",
       "      <td>220633</td>\n",
       "      <td>4.811245</td>\n",
       "    </tr>\n",
       "    <tr>\n",
       "      <th>1</th>\n",
       "      <td>144179</td>\n",
       "      <td>4.774112</td>\n",
       "    </tr>\n",
       "    <tr>\n",
       "      <th>2</th>\n",
       "      <td>47432</td>\n",
       "      <td>4.661700</td>\n",
       "    </tr>\n",
       "    <tr>\n",
       "      <th>3</th>\n",
       "      <td>143774</td>\n",
       "      <td>4.622435</td>\n",
       "    </tr>\n",
       "    <tr>\n",
       "      <th>4</th>\n",
       "      <td>480958</td>\n",
       "      <td>4.457862</td>\n",
       "    </tr>\n",
       "  </tbody>\n",
       "</table>\n",
       "</div>"
      ],
      "text/plain": [
       "   recipe_id  estimated_rating\n",
       "0     220633          4.811245\n",
       "1     144179          4.774112\n",
       "2      47432          4.661700\n",
       "3     143774          4.622435\n",
       "4     480958          4.457862"
      ]
     },
     "execution_count": 60,
     "metadata": {},
     "output_type": "execute_result"
    }
   ],
   "source": [
    "hybrid_recommendations(2310, 531108)"
   ]
  },
  {
   "cell_type": "markdown",
   "metadata": {},
   "source": [
    "As an example, we use this hybrid function to recommend similar recipes and predict the scores that might be given by a specific user to these similar recipes. It should be noted that this function was defined based on df_users dataframe that only includes the users who have rated 50 times or more. Now, we check the performance of this hybrid recommender for some of the user_id included in df_users dataframe."
   ]
  },
  {
   "cell_type": "markdown",
   "metadata": {},
   "source": [
    "## **Conclusion**"
   ]
  },
  {
   "cell_type": "markdown",
   "metadata": {},
   "source": [
    "I built three different recommendation systems based on different algorithms. They are as follows:\n",
    "\n",
    "- Popularity-Based Recommender: This system used the overall Number of Rating and VMean Rating to find the top 10 recipes. The IMDB Weighted Rating System was used to calculate scores on which the sorting was finally performed.\n",
    "\n",
    "\n",
    "- Collaborative Filtering: We used the powerful Surprise Library to build a collaborative filter based on single value decomposition. The RMSE obtained was about 0.9026 and the engine predicted estimated ratings for a given user and recipes.\n",
    "\n",
    "\n",
    "- Hybrid Engine: We combined corrwith() method which computed the Pearson correlation coefficients with collaborative filtering. Our hybrid recommender took use_id and recipe_id as input and suggested up to 5 products that were like the input recipe_id based on the estimated ratings that was internally calculated for the input user_id. This Hybrid System took advantage of both Pearson method and Collaborative filtering and therefore made reliable predictions.\n"
   ]
  }
 ],
 "metadata": {
  "kernelspec": {
   "display_name": "Python 3 (ipykernel)",
   "language": "python",
   "name": "python3"
  },
  "language_info": {
   "codemirror_mode": {
    "name": "ipython",
    "version": 3
   },
   "file_extension": ".py",
   "mimetype": "text/x-python",
   "name": "python",
   "nbconvert_exporter": "python",
   "pygments_lexer": "ipython3",
   "version": "3.9.12"
  },
  "papermill": {
   "duration": 6431.82266,
   "end_time": "2020-12-09T10:51:59.735893",
   "environment_variables": {},
   "exception": null,
   "input_path": "__notebook__.ipynb",
   "output_path": "__notebook__.ipynb",
   "parameters": {},
   "start_time": "2020-12-09T09:04:47.913233",
   "version": "2.1.0"
  }
 },
 "nbformat": 4,
 "nbformat_minor": 4
}
